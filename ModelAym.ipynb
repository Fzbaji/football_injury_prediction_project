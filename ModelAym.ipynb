{
  "nbformat": 4,
  "nbformat_minor": 0,
  "metadata": {
    "colab": {
      "provenance": []
    },
    "kernelspec": {
      "name": "python3",
      "display_name": "Python 3"
    },
    "language_info": {
      "name": "python"
    }
  },
  "cells": [
    {
      "cell_type": "code",
      "execution_count": null,
      "metadata": {
        "colab": {
          "base_uri": "https://localhost:8080/"
        },
        "id": "Gqp-VAr5c5gr",
        "outputId": "98a2aa94-2958-456f-96eb-bd33f054613b"
      },
      "outputs": [
        {
          "output_type": "stream",
          "name": "stdout",
          "text": [
            "Mounted at /content/drive\n"
          ]
        }
      ],
      "source": [
        "from google.colab import drive\n",
        "drive.mount('/content/drive')"
      ]
    },
    {
      "cell_type": "markdown",
      "source": [
        "1. Importer les bibliothèques nécessaires"
      ],
      "metadata": {
        "id": "nXGSEHsfy-tK"
      }
    },
    {
      "cell_type": "code",
      "source": [
        "# Importation des bibliothèques nécessaires\n",
        "import pandas as pd\n",
        "import numpy as np\n",
        "import matplotlib.pyplot as plt\n",
        "import seaborn as sns\n",
        "\n",
        "# Bibliothèques pour le prétraitement des données\n",
        "from sklearn.model_selection import train_test_split\n",
        "from sklearn.preprocessing import StandardScaler\n",
        "from sklearn.utils import resample\n",
        "\n",
        "# Bibliothèques pour l'entraînement des modèles\n",
        "from sklearn.ensemble import RandomForestClassifier\n",
        "from sklearn.linear_model import LogisticRegression\n",
        "from sklearn.svm import SVC\n",
        "from sklearn.metrics import classification_report, accuracy_score, confusion_matrix"
      ],
      "metadata": {
        "id": "RsCDDY5-oof_"
      },
      "execution_count": null,
      "outputs": []
    },
    {
      "cell_type": "code",
      "source": [
        "# Remplace par le chemin de ton fichier\n",
        "file_path = '/content/drive/MyDrive/Prédiction_Blessures/data_tabulaire/muscle_injury_data_refined_10000.csv'\n",
        "data = pd.read_csv(file_path)\n",
        "\n",
        "# Affiche les premières lignes pour vérifier\n",
        "print(data.head())"
      ],
      "metadata": {
        "colab": {
          "base_uri": "https://localhost:8080/"
        },
        "id": "GXue6n-QoyKT",
        "outputId": "a2644b23-bbfb-4678-9f4f-97fda09e46bd"
      },
      "execution_count": null,
      "outputs": [
        {
          "output_type": "stream",
          "name": "stdout",
          "text": [
            "   Minutes jouées  Fatigue (%)  Heures d’entraînement Contact physique  Âge  \\\n",
            "0            2007        51.72                     25     Sans contact   26   \n",
            "1             868        74.17                     17     Sans contact   33   \n",
            "2            1021        51.00                     22     Sans contact   23   \n",
            "3            2045        65.18                     19     Sans contact   25   \n",
            "4            1467        67.51                     20     Avec contact   32   \n",
            "\n",
            "   Historique de blessures musculaires  Blessure musculaire  \n",
            "0                                    1                    0  \n",
            "1                                    1                    1  \n",
            "2                                    0                    0  \n",
            "3                                    0                    0  \n",
            "4                                    0                    0  \n"
          ]
        }
      ]
    },
    {
      "cell_type": "markdown",
      "source": [
        "3. Prétraitement des données\n"
      ],
      "metadata": {
        "id": "_6__jByDzUYZ"
      }
    },
    {
      "cell_type": "code",
      "source": [
        "# Vérifier les valeurs manquantes\n",
        "data.isnull().sum()\n",
        "\n",
        "# Supprimer les lignes avec des valeurs manquantes si nécessaire\n",
        "data.dropna(inplace=True)\n",
        "\n",
        "# Encodage des variables catégoriques\n",
        "data = pd.get_dummies(data, drop_first=True)  # Convertir les variables catégoriques en variables binaires\n",
        "\n",
        "# Séparer les features (X) et le label (y)\n",
        "X = data.drop(columns=['Blessure musculaire'])  # Caractéristique (toutes sauf la colonne 'Blessure musculaire')\n",
        "y = data['Blessure musculaire']  # Label (la colonne 'Blessure musculaire')\n",
        "print(data.head())\n",
        "# Vérifie la distribution des données\n",
        "print(data['Blessure musculaire'].value_counts())"
      ],
      "metadata": {
        "id": "B1ibXXTjpg8c",
        "colab": {
          "base_uri": "https://localhost:8080/"
        },
        "outputId": "1a519c54-c892-4e4f-9087-30a6a671d45f"
      },
      "execution_count": null,
      "outputs": [
        {
          "output_type": "stream",
          "name": "stdout",
          "text": [
            "   Minutes jouées  Fatigue (%)  Heures d’entraînement  Âge  \\\n",
            "0            2007        51.72                     25   26   \n",
            "1             868        74.17                     17   33   \n",
            "2            1021        51.00                     22   23   \n",
            "3            2045        65.18                     19   25   \n",
            "4            1467        67.51                     20   32   \n",
            "\n",
            "   Historique de blessures musculaires  Blessure musculaire  \\\n",
            "0                                    1                    0   \n",
            "1                                    1                    1   \n",
            "2                                    0                    0   \n",
            "3                                    0                    0   \n",
            "4                                    0                    0   \n",
            "\n",
            "   Contact physique_Sans contact  \n",
            "0                           True  \n",
            "1                           True  \n",
            "2                           True  \n",
            "3                           True  \n",
            "4                          False  \n",
            "Blessure musculaire\n",
            "0    7232\n",
            "1    2768\n",
            "Name: count, dtype: int64\n"
          ]
        }
      ]
    },
    {
      "cell_type": "markdown",
      "source": [
        "4. Séparer les données en train/test"
      ],
      "metadata": {
        "id": "0YBXfSrTz18a"
      }
    },
    {
      "cell_type": "code",
      "source": [
        "# Séparer les données en ensembles d'entraînement (80%) et de test (20%)\n",
        "X_train, X_test, y_train, y_test = train_test_split(X, y, test_size=0.2, random_state=42)\n"
      ],
      "metadata": {
        "id": "uW6cPsSCz67N"
      },
      "execution_count": null,
      "outputs": []
    },
    {
      "cell_type": "markdown",
      "source": [
        "5. Équilibrer les données"
      ],
      "metadata": {
        "id": "wjR8lF5g0HnN"
      }
    },
    {
      "cell_type": "code",
      "source": [
        "# Fusionner X_train et y_train pour utiliser la fonction resample\n",
        "train_data = pd.concat([X_train, y_train], axis=1)\n",
        "\n",
        "# Séparer les classes minoritaires et majoritaires\n",
        "majority_class = train_data[train_data['Blessure musculaire'] == 0]\n",
        "minority_class = train_data[train_data['Blessure musculaire'] == 1]\n",
        "\n",
        "# Sur-échantillonner la classe minoritaire\n",
        "minority_upsampled = resample(minority_class,\n",
        "                              replace=True,\n",
        "                              n_samples=len(majority_class),\n",
        "                              random_state=42)\n",
        "\n",
        "# Combiner les classes majoritaire et minoritaire\n",
        "train_data_balanced = pd.concat([majority_class, minority_upsampled])\n",
        "\n",
        "# Séparer les features et le label\n",
        "X_train_balanced = train_data_balanced.drop(columns=['Blessure musculaire'])\n",
        "y_train_balanced = train_data_balanced['Blessure musculaire']\n",
        "\n",
        "# Vérifie la distribution des données\n",
        "print(train_data_balanced['Blessure musculaire'].value_counts())"
      ],
      "metadata": {
        "id": "WJwbnpZ60JEN",
        "colab": {
          "base_uri": "https://localhost:8080/"
        },
        "outputId": "af076bc8-0431-409a-d438-333da5b00f18"
      },
      "execution_count": null,
      "outputs": [
        {
          "output_type": "stream",
          "name": "stdout",
          "text": [
            "Blessure musculaire\n",
            "0    5781\n",
            "1    5781\n",
            "Name: count, dtype: int64\n"
          ]
        }
      ]
    },
    {
      "cell_type": "markdown",
      "source": [
        "6. Entraîner les modèles"
      ],
      "metadata": {
        "id": "xPQCbiwa0P0-"
      }
    },
    {
      "cell_type": "code",
      "source": [
        "# Entraîner un modèle Random Forest\n",
        "model_rf = RandomForestClassifier(random_state=42)\n",
        "model_rf.fit(X_train_balanced, y_train_balanced)\n",
        "\n",
        "# Entraîner un modèle de régression logistique\n",
        "model_lr = LogisticRegression(random_state=42)\n",
        "model_lr.fit(X_train_balanced, y_train_balanced)\n",
        "\n",
        "# Entraîner un modèle SVM\n",
        "model_svc = SVC(random_state=42)\n",
        "model_svc.fit(X_train_balanced, y_train_balanced)\n"
      ],
      "metadata": {
        "colab": {
          "base_uri": "https://localhost:8080/",
          "height": 219
        },
        "id": "3e657C5Z0Uos",
        "outputId": "8ecca5cb-a118-42be-f2b3-a7dd64594977"
      },
      "execution_count": null,
      "outputs": [
        {
          "output_type": "stream",
          "name": "stderr",
          "text": [
            "/usr/local/lib/python3.10/dist-packages/sklearn/linear_model/_logistic.py:469: ConvergenceWarning: lbfgs failed to converge (status=1):\n",
            "STOP: TOTAL NO. of ITERATIONS REACHED LIMIT.\n",
            "\n",
            "Increase the number of iterations (max_iter) or scale the data as shown in:\n",
            "    https://scikit-learn.org/stable/modules/preprocessing.html\n",
            "Please also refer to the documentation for alternative solver options:\n",
            "    https://scikit-learn.org/stable/modules/linear_model.html#logistic-regression\n",
            "  n_iter_i = _check_optimize_result(\n"
          ]
        },
        {
          "output_type": "execute_result",
          "data": {
            "text/plain": [
              "SVC(random_state=42)"
            ],
            "text/html": [
              "<style>#sk-container-id-1 {\n",
              "  /* Definition of color scheme common for light and dark mode */\n",
              "  --sklearn-color-text: black;\n",
              "  --sklearn-color-line: gray;\n",
              "  /* Definition of color scheme for unfitted estimators */\n",
              "  --sklearn-color-unfitted-level-0: #fff5e6;\n",
              "  --sklearn-color-unfitted-level-1: #f6e4d2;\n",
              "  --sklearn-color-unfitted-level-2: #ffe0b3;\n",
              "  --sklearn-color-unfitted-level-3: chocolate;\n",
              "  /* Definition of color scheme for fitted estimators */\n",
              "  --sklearn-color-fitted-level-0: #f0f8ff;\n",
              "  --sklearn-color-fitted-level-1: #d4ebff;\n",
              "  --sklearn-color-fitted-level-2: #b3dbfd;\n",
              "  --sklearn-color-fitted-level-3: cornflowerblue;\n",
              "\n",
              "  /* Specific color for light theme */\n",
              "  --sklearn-color-text-on-default-background: var(--sg-text-color, var(--theme-code-foreground, var(--jp-content-font-color1, black)));\n",
              "  --sklearn-color-background: var(--sg-background-color, var(--theme-background, var(--jp-layout-color0, white)));\n",
              "  --sklearn-color-border-box: var(--sg-text-color, var(--theme-code-foreground, var(--jp-content-font-color1, black)));\n",
              "  --sklearn-color-icon: #696969;\n",
              "\n",
              "  @media (prefers-color-scheme: dark) {\n",
              "    /* Redefinition of color scheme for dark theme */\n",
              "    --sklearn-color-text-on-default-background: var(--sg-text-color, var(--theme-code-foreground, var(--jp-content-font-color1, white)));\n",
              "    --sklearn-color-background: var(--sg-background-color, var(--theme-background, var(--jp-layout-color0, #111)));\n",
              "    --sklearn-color-border-box: var(--sg-text-color, var(--theme-code-foreground, var(--jp-content-font-color1, white)));\n",
              "    --sklearn-color-icon: #878787;\n",
              "  }\n",
              "}\n",
              "\n",
              "#sk-container-id-1 {\n",
              "  color: var(--sklearn-color-text);\n",
              "}\n",
              "\n",
              "#sk-container-id-1 pre {\n",
              "  padding: 0;\n",
              "}\n",
              "\n",
              "#sk-container-id-1 input.sk-hidden--visually {\n",
              "  border: 0;\n",
              "  clip: rect(1px 1px 1px 1px);\n",
              "  clip: rect(1px, 1px, 1px, 1px);\n",
              "  height: 1px;\n",
              "  margin: -1px;\n",
              "  overflow: hidden;\n",
              "  padding: 0;\n",
              "  position: absolute;\n",
              "  width: 1px;\n",
              "}\n",
              "\n",
              "#sk-container-id-1 div.sk-dashed-wrapped {\n",
              "  border: 1px dashed var(--sklearn-color-line);\n",
              "  margin: 0 0.4em 0.5em 0.4em;\n",
              "  box-sizing: border-box;\n",
              "  padding-bottom: 0.4em;\n",
              "  background-color: var(--sklearn-color-background);\n",
              "}\n",
              "\n",
              "#sk-container-id-1 div.sk-container {\n",
              "  /* jupyter's `normalize.less` sets `[hidden] { display: none; }`\n",
              "     but bootstrap.min.css set `[hidden] { display: none !important; }`\n",
              "     so we also need the `!important` here to be able to override the\n",
              "     default hidden behavior on the sphinx rendered scikit-learn.org.\n",
              "     See: https://github.com/scikit-learn/scikit-learn/issues/21755 */\n",
              "  display: inline-block !important;\n",
              "  position: relative;\n",
              "}\n",
              "\n",
              "#sk-container-id-1 div.sk-text-repr-fallback {\n",
              "  display: none;\n",
              "}\n",
              "\n",
              "div.sk-parallel-item,\n",
              "div.sk-serial,\n",
              "div.sk-item {\n",
              "  /* draw centered vertical line to link estimators */\n",
              "  background-image: linear-gradient(var(--sklearn-color-text-on-default-background), var(--sklearn-color-text-on-default-background));\n",
              "  background-size: 2px 100%;\n",
              "  background-repeat: no-repeat;\n",
              "  background-position: center center;\n",
              "}\n",
              "\n",
              "/* Parallel-specific style estimator block */\n",
              "\n",
              "#sk-container-id-1 div.sk-parallel-item::after {\n",
              "  content: \"\";\n",
              "  width: 100%;\n",
              "  border-bottom: 2px solid var(--sklearn-color-text-on-default-background);\n",
              "  flex-grow: 1;\n",
              "}\n",
              "\n",
              "#sk-container-id-1 div.sk-parallel {\n",
              "  display: flex;\n",
              "  align-items: stretch;\n",
              "  justify-content: center;\n",
              "  background-color: var(--sklearn-color-background);\n",
              "  position: relative;\n",
              "}\n",
              "\n",
              "#sk-container-id-1 div.sk-parallel-item {\n",
              "  display: flex;\n",
              "  flex-direction: column;\n",
              "}\n",
              "\n",
              "#sk-container-id-1 div.sk-parallel-item:first-child::after {\n",
              "  align-self: flex-end;\n",
              "  width: 50%;\n",
              "}\n",
              "\n",
              "#sk-container-id-1 div.sk-parallel-item:last-child::after {\n",
              "  align-self: flex-start;\n",
              "  width: 50%;\n",
              "}\n",
              "\n",
              "#sk-container-id-1 div.sk-parallel-item:only-child::after {\n",
              "  width: 0;\n",
              "}\n",
              "\n",
              "/* Serial-specific style estimator block */\n",
              "\n",
              "#sk-container-id-1 div.sk-serial {\n",
              "  display: flex;\n",
              "  flex-direction: column;\n",
              "  align-items: center;\n",
              "  background-color: var(--sklearn-color-background);\n",
              "  padding-right: 1em;\n",
              "  padding-left: 1em;\n",
              "}\n",
              "\n",
              "\n",
              "/* Toggleable style: style used for estimator/Pipeline/ColumnTransformer box that is\n",
              "clickable and can be expanded/collapsed.\n",
              "- Pipeline and ColumnTransformer use this feature and define the default style\n",
              "- Estimators will overwrite some part of the style using the `sk-estimator` class\n",
              "*/\n",
              "\n",
              "/* Pipeline and ColumnTransformer style (default) */\n",
              "\n",
              "#sk-container-id-1 div.sk-toggleable {\n",
              "  /* Default theme specific background. It is overwritten whether we have a\n",
              "  specific estimator or a Pipeline/ColumnTransformer */\n",
              "  background-color: var(--sklearn-color-background);\n",
              "}\n",
              "\n",
              "/* Toggleable label */\n",
              "#sk-container-id-1 label.sk-toggleable__label {\n",
              "  cursor: pointer;\n",
              "  display: block;\n",
              "  width: 100%;\n",
              "  margin-bottom: 0;\n",
              "  padding: 0.5em;\n",
              "  box-sizing: border-box;\n",
              "  text-align: center;\n",
              "}\n",
              "\n",
              "#sk-container-id-1 label.sk-toggleable__label-arrow:before {\n",
              "  /* Arrow on the left of the label */\n",
              "  content: \"▸\";\n",
              "  float: left;\n",
              "  margin-right: 0.25em;\n",
              "  color: var(--sklearn-color-icon);\n",
              "}\n",
              "\n",
              "#sk-container-id-1 label.sk-toggleable__label-arrow:hover:before {\n",
              "  color: var(--sklearn-color-text);\n",
              "}\n",
              "\n",
              "/* Toggleable content - dropdown */\n",
              "\n",
              "#sk-container-id-1 div.sk-toggleable__content {\n",
              "  max-height: 0;\n",
              "  max-width: 0;\n",
              "  overflow: hidden;\n",
              "  text-align: left;\n",
              "  /* unfitted */\n",
              "  background-color: var(--sklearn-color-unfitted-level-0);\n",
              "}\n",
              "\n",
              "#sk-container-id-1 div.sk-toggleable__content.fitted {\n",
              "  /* fitted */\n",
              "  background-color: var(--sklearn-color-fitted-level-0);\n",
              "}\n",
              "\n",
              "#sk-container-id-1 div.sk-toggleable__content pre {\n",
              "  margin: 0.2em;\n",
              "  border-radius: 0.25em;\n",
              "  color: var(--sklearn-color-text);\n",
              "  /* unfitted */\n",
              "  background-color: var(--sklearn-color-unfitted-level-0);\n",
              "}\n",
              "\n",
              "#sk-container-id-1 div.sk-toggleable__content.fitted pre {\n",
              "  /* unfitted */\n",
              "  background-color: var(--sklearn-color-fitted-level-0);\n",
              "}\n",
              "\n",
              "#sk-container-id-1 input.sk-toggleable__control:checked~div.sk-toggleable__content {\n",
              "  /* Expand drop-down */\n",
              "  max-height: 200px;\n",
              "  max-width: 100%;\n",
              "  overflow: auto;\n",
              "}\n",
              "\n",
              "#sk-container-id-1 input.sk-toggleable__control:checked~label.sk-toggleable__label-arrow:before {\n",
              "  content: \"▾\";\n",
              "}\n",
              "\n",
              "/* Pipeline/ColumnTransformer-specific style */\n",
              "\n",
              "#sk-container-id-1 div.sk-label input.sk-toggleable__control:checked~label.sk-toggleable__label {\n",
              "  color: var(--sklearn-color-text);\n",
              "  background-color: var(--sklearn-color-unfitted-level-2);\n",
              "}\n",
              "\n",
              "#sk-container-id-1 div.sk-label.fitted input.sk-toggleable__control:checked~label.sk-toggleable__label {\n",
              "  background-color: var(--sklearn-color-fitted-level-2);\n",
              "}\n",
              "\n",
              "/* Estimator-specific style */\n",
              "\n",
              "/* Colorize estimator box */\n",
              "#sk-container-id-1 div.sk-estimator input.sk-toggleable__control:checked~label.sk-toggleable__label {\n",
              "  /* unfitted */\n",
              "  background-color: var(--sklearn-color-unfitted-level-2);\n",
              "}\n",
              "\n",
              "#sk-container-id-1 div.sk-estimator.fitted input.sk-toggleable__control:checked~label.sk-toggleable__label {\n",
              "  /* fitted */\n",
              "  background-color: var(--sklearn-color-fitted-level-2);\n",
              "}\n",
              "\n",
              "#sk-container-id-1 div.sk-label label.sk-toggleable__label,\n",
              "#sk-container-id-1 div.sk-label label {\n",
              "  /* The background is the default theme color */\n",
              "  color: var(--sklearn-color-text-on-default-background);\n",
              "}\n",
              "\n",
              "/* On hover, darken the color of the background */\n",
              "#sk-container-id-1 div.sk-label:hover label.sk-toggleable__label {\n",
              "  color: var(--sklearn-color-text);\n",
              "  background-color: var(--sklearn-color-unfitted-level-2);\n",
              "}\n",
              "\n",
              "/* Label box, darken color on hover, fitted */\n",
              "#sk-container-id-1 div.sk-label.fitted:hover label.sk-toggleable__label.fitted {\n",
              "  color: var(--sklearn-color-text);\n",
              "  background-color: var(--sklearn-color-fitted-level-2);\n",
              "}\n",
              "\n",
              "/* Estimator label */\n",
              "\n",
              "#sk-container-id-1 div.sk-label label {\n",
              "  font-family: monospace;\n",
              "  font-weight: bold;\n",
              "  display: inline-block;\n",
              "  line-height: 1.2em;\n",
              "}\n",
              "\n",
              "#sk-container-id-1 div.sk-label-container {\n",
              "  text-align: center;\n",
              "}\n",
              "\n",
              "/* Estimator-specific */\n",
              "#sk-container-id-1 div.sk-estimator {\n",
              "  font-family: monospace;\n",
              "  border: 1px dotted var(--sklearn-color-border-box);\n",
              "  border-radius: 0.25em;\n",
              "  box-sizing: border-box;\n",
              "  margin-bottom: 0.5em;\n",
              "  /* unfitted */\n",
              "  background-color: var(--sklearn-color-unfitted-level-0);\n",
              "}\n",
              "\n",
              "#sk-container-id-1 div.sk-estimator.fitted {\n",
              "  /* fitted */\n",
              "  background-color: var(--sklearn-color-fitted-level-0);\n",
              "}\n",
              "\n",
              "/* on hover */\n",
              "#sk-container-id-1 div.sk-estimator:hover {\n",
              "  /* unfitted */\n",
              "  background-color: var(--sklearn-color-unfitted-level-2);\n",
              "}\n",
              "\n",
              "#sk-container-id-1 div.sk-estimator.fitted:hover {\n",
              "  /* fitted */\n",
              "  background-color: var(--sklearn-color-fitted-level-2);\n",
              "}\n",
              "\n",
              "/* Specification for estimator info (e.g. \"i\" and \"?\") */\n",
              "\n",
              "/* Common style for \"i\" and \"?\" */\n",
              "\n",
              ".sk-estimator-doc-link,\n",
              "a:link.sk-estimator-doc-link,\n",
              "a:visited.sk-estimator-doc-link {\n",
              "  float: right;\n",
              "  font-size: smaller;\n",
              "  line-height: 1em;\n",
              "  font-family: monospace;\n",
              "  background-color: var(--sklearn-color-background);\n",
              "  border-radius: 1em;\n",
              "  height: 1em;\n",
              "  width: 1em;\n",
              "  text-decoration: none !important;\n",
              "  margin-left: 1ex;\n",
              "  /* unfitted */\n",
              "  border: var(--sklearn-color-unfitted-level-1) 1pt solid;\n",
              "  color: var(--sklearn-color-unfitted-level-1);\n",
              "}\n",
              "\n",
              ".sk-estimator-doc-link.fitted,\n",
              "a:link.sk-estimator-doc-link.fitted,\n",
              "a:visited.sk-estimator-doc-link.fitted {\n",
              "  /* fitted */\n",
              "  border: var(--sklearn-color-fitted-level-1) 1pt solid;\n",
              "  color: var(--sklearn-color-fitted-level-1);\n",
              "}\n",
              "\n",
              "/* On hover */\n",
              "div.sk-estimator:hover .sk-estimator-doc-link:hover,\n",
              ".sk-estimator-doc-link:hover,\n",
              "div.sk-label-container:hover .sk-estimator-doc-link:hover,\n",
              ".sk-estimator-doc-link:hover {\n",
              "  /* unfitted */\n",
              "  background-color: var(--sklearn-color-unfitted-level-3);\n",
              "  color: var(--sklearn-color-background);\n",
              "  text-decoration: none;\n",
              "}\n",
              "\n",
              "div.sk-estimator.fitted:hover .sk-estimator-doc-link.fitted:hover,\n",
              ".sk-estimator-doc-link.fitted:hover,\n",
              "div.sk-label-container:hover .sk-estimator-doc-link.fitted:hover,\n",
              ".sk-estimator-doc-link.fitted:hover {\n",
              "  /* fitted */\n",
              "  background-color: var(--sklearn-color-fitted-level-3);\n",
              "  color: var(--sklearn-color-background);\n",
              "  text-decoration: none;\n",
              "}\n",
              "\n",
              "/* Span, style for the box shown on hovering the info icon */\n",
              ".sk-estimator-doc-link span {\n",
              "  display: none;\n",
              "  z-index: 9999;\n",
              "  position: relative;\n",
              "  font-weight: normal;\n",
              "  right: .2ex;\n",
              "  padding: .5ex;\n",
              "  margin: .5ex;\n",
              "  width: min-content;\n",
              "  min-width: 20ex;\n",
              "  max-width: 50ex;\n",
              "  color: var(--sklearn-color-text);\n",
              "  box-shadow: 2pt 2pt 4pt #999;\n",
              "  /* unfitted */\n",
              "  background: var(--sklearn-color-unfitted-level-0);\n",
              "  border: .5pt solid var(--sklearn-color-unfitted-level-3);\n",
              "}\n",
              "\n",
              ".sk-estimator-doc-link.fitted span {\n",
              "  /* fitted */\n",
              "  background: var(--sklearn-color-fitted-level-0);\n",
              "  border: var(--sklearn-color-fitted-level-3);\n",
              "}\n",
              "\n",
              ".sk-estimator-doc-link:hover span {\n",
              "  display: block;\n",
              "}\n",
              "\n",
              "/* \"?\"-specific style due to the `<a>` HTML tag */\n",
              "\n",
              "#sk-container-id-1 a.estimator_doc_link {\n",
              "  float: right;\n",
              "  font-size: 1rem;\n",
              "  line-height: 1em;\n",
              "  font-family: monospace;\n",
              "  background-color: var(--sklearn-color-background);\n",
              "  border-radius: 1rem;\n",
              "  height: 1rem;\n",
              "  width: 1rem;\n",
              "  text-decoration: none;\n",
              "  /* unfitted */\n",
              "  color: var(--sklearn-color-unfitted-level-1);\n",
              "  border: var(--sklearn-color-unfitted-level-1) 1pt solid;\n",
              "}\n",
              "\n",
              "#sk-container-id-1 a.estimator_doc_link.fitted {\n",
              "  /* fitted */\n",
              "  border: var(--sklearn-color-fitted-level-1) 1pt solid;\n",
              "  color: var(--sklearn-color-fitted-level-1);\n",
              "}\n",
              "\n",
              "/* On hover */\n",
              "#sk-container-id-1 a.estimator_doc_link:hover {\n",
              "  /* unfitted */\n",
              "  background-color: var(--sklearn-color-unfitted-level-3);\n",
              "  color: var(--sklearn-color-background);\n",
              "  text-decoration: none;\n",
              "}\n",
              "\n",
              "#sk-container-id-1 a.estimator_doc_link.fitted:hover {\n",
              "  /* fitted */\n",
              "  background-color: var(--sklearn-color-fitted-level-3);\n",
              "}\n",
              "</style><div id=\"sk-container-id-1\" class=\"sk-top-container\"><div class=\"sk-text-repr-fallback\"><pre>SVC(random_state=42)</pre><b>In a Jupyter environment, please rerun this cell to show the HTML representation or trust the notebook. <br />On GitHub, the HTML representation is unable to render, please try loading this page with nbviewer.org.</b></div><div class=\"sk-container\" hidden><div class=\"sk-item\"><div class=\"sk-estimator fitted sk-toggleable\"><input class=\"sk-toggleable__control sk-hidden--visually\" id=\"sk-estimator-id-1\" type=\"checkbox\" checked><label for=\"sk-estimator-id-1\" class=\"sk-toggleable__label fitted sk-toggleable__label-arrow fitted\">&nbsp;&nbsp;SVC<a class=\"sk-estimator-doc-link fitted\" rel=\"noreferrer\" target=\"_blank\" href=\"https://scikit-learn.org/1.5/modules/generated/sklearn.svm.SVC.html\">?<span>Documentation for SVC</span></a><span class=\"sk-estimator-doc-link fitted\">i<span>Fitted</span></span></label><div class=\"sk-toggleable__content fitted\"><pre>SVC(random_state=42)</pre></div> </div></div></div></div>"
            ]
          },
          "metadata": {},
          "execution_count": 8
        }
      ]
    },
    {
      "cell_type": "markdown",
      "source": [
        "7. Évaluer le modèle"
      ],
      "metadata": {
        "id": "gLuIIDbU0kZG"
      }
    },
    {
      "cell_type": "code",
      "source": [
        "# Prédictions sur l'ensemble de test\n",
        "y_pred_rf = model_rf.predict(X_test)\n",
        "y_pred_lr = model_lr.predict(X_test)\n",
        "y_pred_svc = model_svc.predict(X_test)\n",
        "\n",
        "# Évaluation du modèle Random Forest\n",
        "print(\"Random Forest Evaluation\")\n",
        "print(classification_report(y_test, y_pred_rf))\n",
        "print(\"Accuracy: \", accuracy_score(y_test, y_pred_rf))\n",
        "print(confusion_matrix(y_test, y_pred_rf))\n",
        "\n",
        "# Évaluation du modèle Régression Logistique\n",
        "print(\"Logistic Regression Evaluation\")\n",
        "print(classification_report(y_test, y_pred_lr))\n",
        "print(\"Accuracy: \", accuracy_score(y_test, y_pred_lr))\n",
        "print(confusion_matrix(y_test, y_pred_lr))\n",
        "\n",
        "# Évaluation du modèle SVM\n",
        "print(\"SVM Evaluation\")\n",
        "print(classification_report(y_test, y_pred_svc))\n",
        "print(\"Accuracy: \", accuracy_score(y_test, y_pred_svc))\n",
        "print(confusion_matrix(y_test, y_pred_svc))\n"
      ],
      "metadata": {
        "colab": {
          "base_uri": "https://localhost:8080/"
        },
        "id": "b7Ts4QlN0ll9",
        "outputId": "57844638-23bf-4f6f-f506-537d8e60150a"
      },
      "execution_count": null,
      "outputs": [
        {
          "output_type": "stream",
          "name": "stdout",
          "text": [
            "Random Forest Evaluation\n",
            "              precision    recall  f1-score   support\n",
            "\n",
            "           0       0.76      0.88      0.81      1451\n",
            "           1       0.45      0.27      0.33       549\n",
            "\n",
            "    accuracy                           0.71      2000\n",
            "   macro avg       0.60      0.57      0.57      2000\n",
            "weighted avg       0.67      0.71      0.68      2000\n",
            "\n",
            "Accuracy:  0.7085\n",
            "[[1271  180]\n",
            " [ 403  146]]\n",
            "Logistic Regression Evaluation\n",
            "              precision    recall  f1-score   support\n",
            "\n",
            "           0       0.81      0.61      0.70      1451\n",
            "           1       0.38      0.63      0.47       549\n",
            "\n",
            "    accuracy                           0.62      2000\n",
            "   macro avg       0.60      0.62      0.59      2000\n",
            "weighted avg       0.69      0.62      0.64      2000\n",
            "\n",
            "Accuracy:  0.617\n",
            "[[888 563]\n",
            " [203 346]]\n",
            "SVM Evaluation\n",
            "              precision    recall  f1-score   support\n",
            "\n",
            "           0       0.76      0.56      0.64      1451\n",
            "           1       0.31      0.53      0.39       549\n",
            "\n",
            "    accuracy                           0.55      2000\n",
            "   macro avg       0.54      0.55      0.52      2000\n",
            "weighted avg       0.64      0.55      0.57      2000\n",
            "\n",
            "Accuracy:  0.551\n",
            "[[810 641]\n",
            " [257 292]]\n"
          ]
        }
      ]
    },
    {
      "cell_type": "markdown",
      "source": [
        "8. Comparaison des modèles"
      ],
      "metadata": {
        "id": "U91Ta91R052p"
      }
    },
    {
      "cell_type": "code",
      "source": [
        "# Matrice de confusion\n",
        "\n",
        "conf_matrix = confusion_matrix(y_test, y_pred_rf)\n",
        "sns.heatmap(conf_matrix, annot=True, fmt='d', cmap='Blues')\n",
        "plt.title('Matrice de Confusion - Random Forest')\n",
        "plt.xlabel('Prédictions')\n",
        "plt.ylabel('Vérités')\n",
        "plt.show()"
      ],
      "metadata": {
        "colab": {
          "base_uri": "https://localhost:8080/",
          "height": 472
        },
        "id": "6nnVk6vNnRsz",
        "outputId": "5dfb766d-49b8-4274-8a85-bf0c0ae7c702"
      },
      "execution_count": null,
      "outputs": [
        {
          "output_type": "display_data",
          "data": {
            "text/plain": [
              "<Figure size 640x480 with 2 Axes>"
            ],
            "image/png": "[encoded data removed]"
          },
          "metadata": {}
        }
      ]
    },
    {
      "cell_type": "code",
      "source": [
        "# Comparaison des modèles sur l'accuracy\n",
        "models = ['Random Forest', 'Logistic Regression', 'SVM']\n",
        "accuracies = [accuracy_score(y_test, y_pred_rf),\n",
        "              accuracy_score(y_test, y_pred_lr),\n",
        "              accuracy_score(y_test, y_pred_svc)]\n",
        "\n",
        "# Affichage de la comparaison\n",
        "plt.figure(figsize=(10, 5))\n",
        "sns.barplot(x=models, y=accuracies)\n",
        "plt.title('Comparaison des modèles')\n",
        "plt.ylabel('Accuracy')\n",
        "plt.show()\n"
      ],
      "metadata": {
        "colab": {
          "base_uri": "https://localhost:8080/",
          "height": 468
        },
        "id": "2B0p74L50_GD",
        "outputId": "7cb1a437-1d77-46af-9ec5-52c7f9a2722a"
      },
      "execution_count": null,
      "outputs": [
        {
          "output_type": "display_data",
          "data": {
            "text/plain": [
              "<Figure size 1000x500 with 1 Axes>"
            ],
            "image/png": "[encoded data removed]"
          },
          "metadata": {}
        }
      ]
    },
    {
      "cell_type": "markdown",
      "source": [
        "# **Sauvegarder le modele **"
      ],
      "metadata": {
        "id": "rsS7GLzGny2O"
      }
    },
    {
      "cell_type": "code",
      "source": [
        "import joblib\n",
        "\n",
        "# Sauvegarde du modèle\n",
        "joblib.dump(model_rf, '/content/drive/MyDrive/Prédiction_Blessures/modele_tab/modele4_tab.h5')\n",
        "\n",
        "# Pour le recharger plus tard :\n",
        "loaded_model = joblib.load('/content/drive/MyDrive/Prédiction_Blessures/modele_tab/modele4_tab.h5')\n",
        "\n",
        "# Test de prédiction avec le modèle chargé\n",
        "# Use .iloc to access the first row of the DataFrame\n",
        "sample_data = X_test.iloc[[0]].values.reshape(1, -1)\n",
        "print(f\"Prédiction sur un exemple : {loaded_model.predict(sample_data)}\")"
      ],
      "metadata": {
        "colab": {
          "base_uri": "https://localhost:8080/"
        },
        "id": "avhmJsfTn7eN",
        "outputId": "e0f89c17-5787-4d21-833e-3ca0cf66f53a"
      },
      "execution_count": null,
      "outputs": [
        {
          "output_type": "stream",
          "name": "stdout",
          "text": [
            "Prédiction sur un exemple : [1]\n"
          ]
        },
        {
          "output_type": "stream",
          "name": "stderr",
          "text": [
            "/usr/local/lib/python3.10/dist-packages/sklearn/base.py:493: UserWarning: X does not have valid feature names, but RandomForestClassifier was fitted with feature names\n",
            "  warnings.warn(\n"
          ]
        }
      ]
    },
    {
      "cell_type": "code",
      "source": [
        "from sklearn.linear_model import LogisticRegression\n",
        "from sklearn.svm import SVC\n",
        "from sklearn.neighbors import KNeighborsClassifier\n",
        "from sklearn.ensemble import RandomForestClassifier, GradientBoostingClassifier\n",
        "from xgboost import XGBClassifier\n",
        "from sklearn.metrics import classification_report, roc_auc_score, f1_score\n",
        "\n",
        "# Définir une liste de modèles à tester\n",
        "models = {\n",
        "    'Logistic Regression': LogisticRegression(max_iter=1000, random_state=42),\n",
        "    'SVM': SVC(probability=True, random_state=42),\n",
        "    'KNN': KNeighborsClassifier(),\n",
        "    'Random Forest': RandomForestClassifier(random_state=42),\n",
        "    'Gradient Boosting': GradientBoostingClassifier(random_state=42),\n",
        "    'XGBoost': XGBClassifier(random_state=42)\n",
        "}\n",
        "\n",
        "# Stocker les résultats pour comparer\n",
        "results = {}\n",
        "\n",
        "# Entraîner et évaluer chaque modèle\n",
        "for name, model in models.items():\n",
        "    print(f\"Training {name}...\")\n",
        "    model.fit(X_train_balanced, y_train_balanced)  # Entraîne le modèle\n",
        "\n",
        "    # Prédictions\n",
        "    y_pred = model.predict(X_test)\n",
        "    y_pred_proba = model.predict_proba(X_test)[:, 1] if hasattr(model, \"predict_proba\") else None\n",
        "\n",
        "    # Calculer les métriques\n",
        "    f1 = f1_score(y_test, y_pred)\n",
        "    auc = roc_auc_score(y_test, y_pred_proba) if y_pred_proba is not None else \"N/A\"\n",
        "    report = classification_report(y_test, y_pred, output_dict=True)\n",
        "\n",
        "    # Stocker les résultats\n",
        "    results[name] = {\n",
        "        'F1-Score': f1,\n",
        "        'ROC-AUC': auc,\n",
        "        'Classification Report': report\n",
        "    }\n",
        "\n",
        "    print(f\"{name} - F1-Score: {f1:.4f}, ROC-AUC: {auc}\")\n",
        "    print(classification_report(y_test, y_pred))\n",
        "\n",
        "# Afficher les performances globales\n",
        "print(\"\\nRésultats finaux :\")\n",
        "for model_name, metrics in results.items():\n",
        "    print(f\"{model_name}: F1-Score={metrics['F1-Score']:.4f}, ROC-AUC={metrics['ROC-AUC']}\")"
      ],
      "metadata": {
        "colab": {
          "base_uri": "https://localhost:8080/"
        },
        "id": "ZeBrzLUxiLFH",
        "outputId": "a5609b97-a100-4f8c-931c-bebbc6201925"
      },
      "execution_count": null,
      "outputs": [
        {
          "output_type": "stream",
          "name": "stdout",
          "text": [
            "Training Logistic Regression...\n",
            "Logistic Regression - F1-Score: 0.4747, ROC-AUC: 0.6712812845609899\n",
            "              precision    recall  f1-score   support\n",
            "\n",
            "           0       0.81      0.61      0.70      1451\n",
            "           1       0.38      0.63      0.47       549\n",
            "\n",
            "    accuracy                           0.62      2000\n",
            "   macro avg       0.60      0.62      0.59      2000\n",
            "weighted avg       0.70      0.62      0.64      2000\n",
            "\n",
            "Training SVM...\n",
            "SVM - F1-Score: 0.3941, ROC-AUC: 0.5683888631544856\n",
            "              precision    recall  f1-score   support\n",
            "\n",
            "           0       0.76      0.56      0.64      1451\n",
            "           1       0.31      0.53      0.39       549\n",
            "\n",
            "    accuracy                           0.55      2000\n",
            "   macro avg       0.54      0.55      0.52      2000\n",
            "weighted avg       0.64      0.55      0.57      2000\n",
            "\n",
            "Training KNN...\n",
            "KNN - F1-Score: 0.3841, ROC-AUC: 0.5623626190843825\n",
            "              precision    recall  f1-score   support\n",
            "\n",
            "           0       0.75      0.58      0.65      1451\n",
            "           1       0.31      0.50      0.38       549\n",
            "\n",
            "    accuracy                           0.56      2000\n",
            "   macro avg       0.53      0.54      0.52      2000\n",
            "weighted avg       0.63      0.56      0.58      2000\n",
            "\n",
            "Training Random Forest...\n",
            "Random Forest - F1-Score: 0.3337, ROC-AUC: 0.6163822701258724\n",
            "              precision    recall  f1-score   support\n",
            "\n",
            "           0       0.76      0.88      0.81      1451\n",
            "           1       0.45      0.27      0.33       549\n",
            "\n",
            "    accuracy                           0.71      2000\n",
            "   macro avg       0.60      0.57      0.57      2000\n",
            "weighted avg       0.67      0.71      0.68      2000\n",
            "\n",
            "Training Gradient Boosting...\n",
            "Gradient Boosting - F1-Score: 0.4682, ROC-AUC: 0.6688553462909193\n",
            "              precision    recall  f1-score   support\n",
            "\n",
            "           0       0.81      0.66      0.73      1451\n",
            "           1       0.39      0.58      0.47       549\n",
            "\n",
            "    accuracy                           0.64      2000\n",
            "   macro avg       0.60      0.62      0.60      2000\n",
            "weighted avg       0.69      0.64      0.66      2000\n",
            "\n",
            "Training XGBoost...\n",
            "XGBoost - F1-Score: 0.4096, ROC-AUC: 0.6140216093668207\n",
            "              precision    recall  f1-score   support\n",
            "\n",
            "           0       0.78      0.74      0.76      1451\n",
            "           1       0.39      0.43      0.41       549\n",
            "\n",
            "    accuracy                           0.66      2000\n",
            "   macro avg       0.58      0.59      0.58      2000\n",
            "weighted avg       0.67      0.66      0.66      2000\n",
            "\n",
            "\n",
            "Résultats finaux :\n",
            "Logistic Regression: F1-Score=0.4747, ROC-AUC=0.6712812845609899\n",
            "SVM: F1-Score=0.3941, ROC-AUC=0.5683888631544856\n",
            "KNN: F1-Score=0.3841, ROC-AUC=0.5623626190843825\n",
            "Random Forest: F1-Score=0.3337, ROC-AUC=0.6163822701258724\n",
            "Gradient Boosting: F1-Score=0.4682, ROC-AUC=0.6688553462909193\n",
            "XGBoost: F1-Score=0.4096, ROC-AUC=0.6140216093668207\n"
          ]
        }
      ]
    },
    {
      "cell_type": "code",
      "source": [
        "import pandas as pd\n",
        "import matplotlib.pyplot as plt\n",
        "\n",
        "# Feature importance pour Random Forest\n",
        "rf_importances = pd.DataFrame({\n",
        "    'Feature': X_train.columns,\n",
        "    'Importance': model_rf.feature_importances_\n",
        "}).sort_values(by='Importance', ascending=False)\n",
        "\n",
        "# Visualisation\n",
        "rf_importances.plot(kind='barh', x='Feature', y='Importance', legend=False)\n",
        "plt.title(\"Feature Importance - Random Forest\")\n",
        "plt.show()"
      ],
      "metadata": {
        "colab": {
          "base_uri": "https://localhost:8080/",
          "height": 452
        },
        "id": "nUu2vzPjk6Fn",
        "outputId": "b9a8c1df-9f53-4feb-b6f8-016266ab8296"
      },
      "execution_count": null,
      "outputs": [
        {
          "output_type": "display_data",
          "data": {
            "text/plain": [
              "<Figure size 640x480 with 1 Axes>"
            ],
            "image/png": "[encoded data removed]"
          },
          "metadata": {}
        }
      ]
    },
    {
      "cell_type": "code",
      "source": [
        "import seaborn as sns\n",
        "\n",
        "corr_matrix = X_train.corr()\n",
        "plt.figure(figsize=(8, 6))\n",
        "sns.heatmap(corr_matrix, annot=True, cmap='coolwarm', fmt=\".2f\")\n",
        "plt.title(\"Correlation Matrix\")\n",
        "plt.show()"
      ],
      "metadata": {
        "colab": {
          "base_uri": "https://localhost:8080/",
          "height": 781
        },
        "id": "KI2G5U0hmp0-",
        "outputId": "cc428456-12cf-43dd-df94-4cb5ac6bb433"
      },
      "execution_count": null,
      "outputs": [
        {
          "output_type": "display_data",
          "data": {
            "text/plain": [
              "<Figure size 800x600 with 2 Axes>"
            ],
            "image/png": "[encoded data removed]"
          },
          "metadata": {}
        }
      ]
    }
  ]
}